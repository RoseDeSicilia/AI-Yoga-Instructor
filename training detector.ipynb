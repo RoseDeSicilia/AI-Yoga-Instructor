{
 "cells": [
  {
   "cell_type": "markdown",
   "id": "6769dcc9",
   "metadata": {},
   "source": [
    "3. Train Custom Model Using Scikit Learn\n",
    "3.1 Read in Collected Data and Process"
   ]
  },
  {
   "cell_type": "code",
   "execution_count": 1,
   "id": "f71e9a34",
   "metadata": {},
   "outputs": [],
   "source": [
    "import pandas as pd\n",
    "import numpy as np\n",
    "from sklearn.model_selection import train_test_split"
   ]
  },
  {
   "cell_type": "code",
   "execution_count": 4,
   "id": "39fd8b0b",
   "metadata": {
    "scrolled": true
   },
   "outputs": [],
   "source": [
    "df = pd.read_csv('features.csv')\n",
    "\n",
    "class_warrior1 = \"Warrior Pose 1\"    #\n",
    "class_warrior2 = \"Warrior Pose 2\"    #\n",
    "class_warrior3 = \"Warrior Pose 3\"    #\n",
    "class_forward_fold = \"Forward Fold\"  #\n",
    "class_mountain = \"Mountain Fold\"     #"
   ]
  },
  {
   "cell_type": "code",
   "execution_count": 8,
   "id": "4dd4921f",
   "metadata": {},
   "outputs": [
    {
     "name": "stdout",
     "output_type": "stream",
     "text": [
      "[[ 0.55350274  0.5891544  -0.05322741 ...  0.93086135  0.21329997\n",
      "   0.26758656]\n",
      " [ 0.55378026  0.58964115 -0.0545813  ...  0.93084943  0.21371157\n",
      "   0.2676463 ]\n",
      " [ 0.5541055   0.5904002  -0.05610031 ...  0.9308597   0.21321256\n",
      "   0.26791865]\n",
      " ...\n",
      " [ 0.4915249   0.2851333  -0.04207544 ...  0.9469096  -0.01869296\n",
      "   0.9733368 ]\n",
      " [ 0.4915308   0.28512836 -0.04207289 ...  0.94692814 -0.01865661\n",
      "   0.97330195]\n",
      " [ 0.49153334  0.28512347 -0.04205157 ...  0.9469475  -0.01869097\n",
      "   0.97326803]]\n"
     ]
    }
   ],
   "source": [
    "X = np.array(df.drop('class', axis=1)).astype('float32') # features\n",
    "\n",
    "print(X)\n",
    "y = np.array(df['class']) # target value\n",
    "\n",
    "X_train, X_test, y_train, y_test = train_test_split(X, y, test_size=0.3, random_state=1234)"
   ]
  },
  {
   "cell_type": "code",
   "execution_count": 35,
   "id": "5761330f",
   "metadata": {},
   "outputs": [
    {
     "name": "stdout",
     "output_type": "stream",
     "text": [
      "[['0.663818120956421' '0.326820760965347' '-0.129943162202835' ...\n",
      "  '0.285893559455872' '-0.457337826490402' '0.959284663200378']\n",
      " ['0.580502271652222' '0.304825752973557' '-0.052788890898228' ...\n",
      "  '0.056538328528404' '-0.30445984005928' '0.89883553981781']\n",
      " [0.46277391910553 0.34810671210289 -0.115961074829102 ...\n",
      "  0.414940029382706 -0.104719616472721 0.956658184528351]\n",
      " ...\n",
      " [0.504855334758759 0.117764376103878 -0.367383927106857 ...\n",
      "  0.558018922805786 -0.199615895748138 0.95456862449646]\n",
      " [0.475601226091385 0.276512682437897 -0.203341737389565 ...\n",
      "  0.352085381746292 -0.130756169557571 0.97465991973877]\n",
      " [0.553860485553741 0.264267206192017 0.041361145675182 ...\n",
      "  0.102079570293427 -0.235220372676849 0.910654544830322]]\n"
     ]
    }
   ],
   "source": []
  },
  {
   "cell_type": "markdown",
   "id": "025e16f4",
   "metadata": {},
   "source": [
    "3.2 Train Machine Learning Classification Model"
   ]
  },
  {
   "cell_type": "code",
   "execution_count": 9,
   "id": "37c07b44",
   "metadata": {},
   "outputs": [],
   "source": [
    "from sklearn.pipeline import make_pipeline \n",
    "from sklearn.preprocessing import StandardScaler \n",
    "\n",
    "from sklearn.decomposition import PCA\n",
    "from sklearn.linear_model import LogisticRegression, RidgeClassifier\n",
    "from sklearn.ensemble import RandomForestClassifier, GradientBoostingClassifier"
   ]
  },
  {
   "cell_type": "code",
   "execution_count": 27,
   "id": "7249fd92",
   "metadata": {},
   "outputs": [
    {
     "name": "stdout",
     "output_type": "stream",
     "text": [
      "(132,)\n",
      "[ 0.66383827  0.32666817 -0.1298089   0.9999127   0.6703997   0.30812284\n",
      " -0.11385878  0.9995364   0.67000335  0.3063484  -0.11394496  0.9998047\n",
      "  0.6695933   0.3044761  -0.11395175  0.99954736  0.6695968   0.30538964\n",
      " -0.15644647  0.9995955   0.66868687  0.30194962 -0.15643397  0.99974144\n",
      "  0.66778946  0.29851198 -0.1564829   0.99930465  0.6565327   0.28764558\n",
      " -0.03281583  0.9997793   0.65466577  0.2835745  -0.22917663  0.9997382\n",
      "  0.6530244   0.33052182 -0.09598924  0.9991842   0.65192896  0.3263077\n",
      " -0.15372907  0.99904794  0.60810083  0.31023645  0.06688353  0.9993509\n",
      "  0.6027336   0.2926991  -0.30233118  0.99996096  0.6856255   0.30545017\n",
      "  0.15680307  0.35786757  0.69062036  0.3062748  -0.43063435  0.9912068\n",
      "  0.7706477   0.29331014  0.04861533  0.51000196  0.7894315   0.29475197\n",
      " -0.46689832  0.9884135   0.789176    0.28712684  0.04084835  0.47043377\n",
      "  0.81264174  0.29465902 -0.52131236  0.97536355  0.79158103  0.2833792\n",
      "  0.01109545  0.47579953  0.81249934  0.2865628  -0.49318168  0.9683789\n",
      "  0.78406173  0.2842884   0.03066936  0.5021567   0.8044208   0.28587836\n",
      " -0.45794383  0.95955586  0.4243817   0.39931062  0.1114236   0.9999298\n",
      "  0.40813574  0.35669246 -0.11124418  0.9999752   0.43417767  0.64150053\n",
      "  0.11521619  0.9745158   0.27446443  0.36568588 -0.06984203  0.9990042\n",
      "  0.44314578  0.85586953  0.20849624  0.98699355  0.14255162  0.33898178\n",
      "  0.08679806  0.9960342   0.43332374  0.9037039   0.2115063   0.981708\n",
      "  0.115337    0.317001    0.09692004  0.98949957  0.51347524  0.9108869\n",
      "  0.1387786   0.98507345  0.12059436  0.4382991  -0.01441422  0.9896712 ]\n"
     ]
    }
   ],
   "source": [
    "print(X_train[0].shape)\n",
    "print(X_train[0])"
   ]
  },
  {
   "cell_type": "code",
   "execution_count": 10,
   "id": "d82b93cc",
   "metadata": {},
   "outputs": [
    {
     "name": "stderr",
     "output_type": "stream",
     "text": [
      "C:\\Users\\rosed\\anaconda3\\lib\\site-packages\\sklearn\\linear_model\\_logistic.py:763: ConvergenceWarning: lbfgs failed to converge (status=1):\n",
      "STOP: TOTAL NO. of ITERATIONS REACHED LIMIT.\n",
      "\n",
      "Increase the number of iterations (max_iter) or scale the data as shown in:\n",
      "    https://scikit-learn.org/stable/modules/preprocessing.html\n",
      "Please also refer to the documentation for alternative solver options:\n",
      "    https://scikit-learn.org/stable/modules/linear_model.html#logistic-regression\n",
      "  n_iter_i = _check_optimize_result(\n"
     ]
    }
   ],
   "source": [
    "pipe = make_pipeline(StandardScaler(), LogisticRegression())\n",
    "lr_model = pipe.fit(X_train, y_train)"
   ]
  },
  {
   "cell_type": "code",
   "execution_count": 17,
   "id": "14221da6",
   "metadata": {},
   "outputs": [],
   "source": [
    "pipelines = {\n",
    "    'lr': make_pipeline(StandardScaler(), LogisticRegression(max_iter=1000)),\n",
    "    'rc': make_pipeline(StandardScaler(), RidgeClassifier()),\n",
    "    'rf': make_pipeline(StandardScaler(), RandomForestClassifier()),\n",
    "    'gb': make_pipeline(StandardScaler(), GradientBoostingClassifier()),\n",
    "}\n",
    "\n",
    "fit_models = {}"
   ]
  },
  {
   "cell_type": "code",
   "execution_count": 18,
   "id": "0fdf31a2",
   "metadata": {
    "scrolled": true
   },
   "outputs": [],
   "source": [
    "for algo, pipeline in pipelines.items():\n",
    "    model = pipeline.fit(X_train, y_train)\n",
    "    fit_models[algo] = model\n"
   ]
  },
  {
   "cell_type": "markdown",
   "id": "8f848c7a",
   "metadata": {},
   "source": [
    "3.3 Evaluate and Serialize Model"
   ]
  },
  {
   "cell_type": "code",
   "execution_count": 19,
   "id": "5e8c2500",
   "metadata": {},
   "outputs": [
    {
     "name": "stdout",
     "output_type": "stream",
     "text": [
      "lr 0.9980726872246696\n",
      "rc 0.9889867841409692\n",
      "rf 1.0\n",
      "gb 0.9994493392070485\n"
     ]
    }
   ],
   "source": [
    "\n",
    "from sklearn.metrics import accuracy_score # Accuracy metrics \n",
    "import pickle \n",
    "\n",
    "for algo, model in fit_models.items():\n",
    "    yhat = model.predict(X_test)\n",
    "    print(algo, accuracy_score(y_test, yhat))\n",
    "\n"
   ]
  },
  {
   "cell_type": "code",
   "execution_count": 46,
   "id": "60727e1f",
   "metadata": {},
   "outputs": [
    {
     "name": "stdout",
     "output_type": "stream",
     "text": [
      "[[ 0.6460779   0.49889216 -0.05176287  0.9999624   0.6511936   0.4839547\n",
      "  -0.04042633  0.9998429   0.6507831   0.48224357 -0.04049003  0.99992293\n",
      "   0.65030456  0.48051724 -0.04048465  0.9998327   0.65100396  0.4826232\n",
      "  -0.07109129  0.9998571   0.6505016   0.4800596  -0.07107933  0.9999055\n",
      "   0.6499608   0.47743744 -0.07108973  0.99976707  0.6416746   0.46556166\n",
      "   0.01357639  0.9999085   0.6423108   0.4649719  -0.12878753  0.999918\n",
      "   0.637533    0.49886107 -0.02924545  0.9997194   0.63705754  0.49656203\n",
      "  -0.07106924  0.9996689   0.60499936  0.46246406  0.08331642  0.9997559\n",
      "   0.6107778   0.468502   -0.19096448  0.9999858   0.6669997   0.47473606\n",
      "   0.15055352  0.34263846  0.68139243  0.49198106 -0.29248476  0.97518855\n",
      "   0.71897185  0.4677139   0.06389988  0.47793642  0.7501673   0.4871274\n",
      "  -0.31915474  0.96375936  0.7217848   0.450773    0.05642926  0.44167563\n",
      "   0.769232    0.48171166 -0.35877365  0.93398917  0.7266141   0.45058647\n",
      "   0.03394619  0.4464965   0.76979476  0.47563967 -0.3382144   0.928004\n",
      "   0.7240173   0.45649967  0.04983557  0.46956098  0.76407063  0.47553316\n",
      "  -0.3125066   0.9238423   0.4690627   0.5340058   0.08256903  0.99994725\n",
      "   0.4633099   0.509335   -0.08245988  0.9999794   0.46720538  0.7117141\n",
      "   0.10127071  0.97853106  0.3574061   0.49845967 -0.05935253  0.9977529\n",
      "   0.47100088  0.88219666  0.18107806  0.98854685  0.26492393  0.4670688\n",
      "   0.05292905  0.99567634  0.46332446  0.91679937  0.18486853  0.9843785\n",
      "   0.2503409   0.45030856  0.06015933  0.9857483   0.5180978   0.9135448\n",
      "   0.13647872  0.9875977   0.242181    0.5367696  -0.02227954  0.98921746]]\n"
     ]
    },
    {
     "data": {
      "text/plain": [
       "array(['Warrior Pose 3'], dtype=object)"
      ]
     },
     "execution_count": 46,
     "metadata": {},
     "output_type": "execute_result"
    }
   ],
   "source": [
    "test_try = X_test[0]\n",
    "test_try =  test_try.reshape(1, -1)\n",
    "print(test_try)\n",
    "fit_models['gb'].predict(test_try)"
   ]
  },
  {
   "cell_type": "code",
   "execution_count": 22,
   "id": "c9532b27",
   "metadata": {},
   "outputs": [],
   "source": [
    "with open('yoga_pose_detector.pkl', 'wb') as f:\n",
    "    pickle.dump(fit_models['rf'], f)"
   ]
  }
 ],
 "metadata": {
  "kernelspec": {
   "display_name": "Python 3",
   "language": "python",
   "name": "python3"
  },
  "language_info": {
   "codemirror_mode": {
    "name": "ipython",
    "version": 3
   },
   "file_extension": ".py",
   "mimetype": "text/x-python",
   "name": "python",
   "nbconvert_exporter": "python",
   "pygments_lexer": "ipython3",
   "version": "3.8.8"
  }
 },
 "nbformat": 4,
 "nbformat_minor": 5
}
